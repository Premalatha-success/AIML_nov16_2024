{
 "cells": [
  {
   "cell_type": "markdown",
   "id": "331276a9-0361-4343-9dc7-7eb91117be9f",
   "metadata": {},
   "source": [
    "### Problem Statement:Loan approval Prediction"
   ]
  },
  {
   "cell_type": "code",
   "execution_count": null,
   "id": "3c3c9d39-d0fe-4f0a-9f9f-0b2acc1aecc5",
   "metadata": {},
   "outputs": [],
   "source": [
    "import numpy as np\n",
    "import pandas as pd"
   ]
  },
  {
   "cell_type": "code",
   "execution_count": null,
   "id": "a30bc9b4-6cb2-40b7-8221-bdf0e3e836b7",
   "metadata": {},
   "outputs": [],
   "source": [
    "df=pd.read_csv(\"titanic-training-data.csv\")"
   ]
  },
  {
   "cell_type": "code",
   "execution_count": null,
   "id": "011d0454-7fde-483f-8ac3-b5df05d206f3",
   "metadata": {},
   "outputs": [],
   "source": [
    "df.info()"
   ]
  },
  {
   "cell_type": "code",
   "execution_count": null,
   "id": "cb4d16f3-24e9-4871-a0d3-75eaf49bb95f",
   "metadata": {},
   "outputs": [],
   "source": [
    "df.isnull().sum()"
   ]
  },
  {
   "cell_type": "code",
   "execution_count": null,
   "id": "bc32578a-0e05-42f4-b6bd-f65e103f29c2",
   "metadata": {},
   "outputs": [],
   "source": [
    "df.shape"
   ]
  },
  {
   "cell_type": "code",
   "execution_count": null,
   "id": "219c8498-50ee-4111-b2dc-28a1255057e8",
   "metadata": {},
   "outputs": [],
   "source": [
    "### Dropping insignificant columns\n",
    "df=df.drop([\"Cabin\",\"Name\",\"Ticket\",\"PassengerId\"],axis=1)"
   ]
  },
  {
   "cell_type": "code",
   "execution_count": null,
   "id": "68301a64-34c8-4dc5-bf59-6511b19f3250",
   "metadata": {},
   "outputs": [],
   "source": [
    "df.shape"
   ]
  },
  {
   "cell_type": "code",
   "execution_count": null,
   "id": "e71f73a9-714a-4958-8d8a-a75a8fda30de",
   "metadata": {},
   "outputs": [],
   "source": [
    "df.info()"
   ]
  },
  {
   "cell_type": "code",
   "execution_count": null,
   "id": "2e2e5a5c-474e-4474-af17-32a62601fe2d",
   "metadata": {},
   "outputs": [],
   "source": [
    "age_median=df[\"Age\"].median()\n",
    "age_median"
   ]
  },
  {
   "cell_type": "code",
   "execution_count": null,
   "id": "4b4470e3-cc37-44bb-a3b7-30017ae1fdec",
   "metadata": {},
   "outputs": [],
   "source": [
    "df[\"Age\"]=df[\"Age\"].replace(np.nan,age_median)"
   ]
  },
  {
   "cell_type": "code",
   "execution_count": null,
   "id": "e9aae9f3-840b-4f97-9f5a-add82e5317ac",
   "metadata": {},
   "outputs": [],
   "source": [
    "df.isnull().sum()"
   ]
  },
  {
   "cell_type": "code",
   "execution_count": null,
   "id": "3a972e2d-ea07-4100-8e2a-d9d0600168b2",
   "metadata": {},
   "outputs": [],
   "source": [
    "emb_mode=df[\"Embarked\"].mode()[0]\n",
    "emb_mode"
   ]
  },
  {
   "cell_type": "code",
   "execution_count": null,
   "id": "233ed676-e459-4e9f-9a38-3427242f2a78",
   "metadata": {},
   "outputs": [],
   "source": [
    "df[\"Embarked\"]=df[\"Embarked\"].replace(np.nan,emb_mode)"
   ]
  },
  {
   "cell_type": "code",
   "execution_count": null,
   "id": "b1aed2c6-541d-4b9b-bacc-7d86c6d2dbf8",
   "metadata": {},
   "outputs": [],
   "source": [
    "df.isnull().sum()"
   ]
  },
  {
   "cell_type": "code",
   "execution_count": null,
   "id": "f991318d-bdf4-4197-bbfd-39dc8adcc3a4",
   "metadata": {},
   "outputs": [],
   "source": [
    "import seaborn as sns"
   ]
  },
  {
   "cell_type": "code",
   "execution_count": null,
   "id": "6d554b64-d044-4947-973f-a25ef1c16c0a",
   "metadata": {},
   "outputs": [],
   "source": [
    "## Outlier Treatment\n",
    "sns.boxplot(x=\"Age\",data=df)"
   ]
  },
  {
   "cell_type": "code",
   "execution_count": null,
   "id": "3a9db783-8ef3-46d6-a91d-cfc3a074aec0",
   "metadata": {},
   "outputs": [],
   "source": [
    "def remove_outlier(col):\n",
    "    sorted(col)\n",
    "    q1,q3=col.quantile([0.25,0.75])\n",
    "    iqr=q3-q1\n",
    "    lower_range=q1-(1.5*iqr)\n",
    "    upper_range=q3+(1.5*iqr)\n",
    "    return lower_range,upper_range"
   ]
  },
  {
   "cell_type": "code",
   "execution_count": null,
   "id": "10c52da0-3666-451b-b431-6333d6301dd7",
   "metadata": {},
   "outputs": [],
   "source": [
    "lowage,uppage=remove_outlier(df[\"Age\"])\n",
    "df[\"Age\"]=np.where(df[\"Age\"]>uppage,uppage,df[\"Age\"])\n",
    "df[\"Age\"]=np.where(df[\"Age\"]<lowage,lowage,df[\"Age\"])"
   ]
  },
  {
   "cell_type": "code",
   "execution_count": null,
   "id": "ecd0b624-e847-4a5f-96bb-f8ba7da16086",
   "metadata": {},
   "outputs": [],
   "source": [
    "sns.boxplot(x=\"Age\",data=df)"
   ]
  },
  {
   "cell_type": "code",
   "execution_count": null,
   "id": "e984b749-3b04-4246-9cb3-fe06a794b662",
   "metadata": {},
   "outputs": [],
   "source": [
    "df.dtypes"
   ]
  },
  {
   "cell_type": "code",
   "execution_count": null,
   "id": "5cdadfef-63a9-45ff-b24f-b3310025e27c",
   "metadata": {},
   "outputs": [],
   "source": [
    "df=pd.get_dummies(df,columns=[\"Sex\",\"Embarked\"])"
   ]
  },
  {
   "cell_type": "code",
   "execution_count": null,
   "id": "fb22f3dd-11d6-4118-a09a-854301ab93f6",
   "metadata": {},
   "outputs": [],
   "source": [
    "df.head()"
   ]
  },
  {
   "cell_type": "code",
   "execution_count": null,
   "id": "498a8d1f-50cd-46a8-b1cb-c8fccb0ed826",
   "metadata": {},
   "outputs": [],
   "source": [
    "### Model Building and Evaluation -> Supervised ML(Cat)->Deependent Variable->Survived->Train and Test\n",
    "a) Logistic Regression(Classification)\n",
    "b)KNN Classifier\n",
    "c)SVC\n",
    "d)DTC\n",
    "e)Bagging Classifier\n",
    "f)Adaboosting Classifier\n",
    "g)Gradient\n",
    "h)Xgboost\n",
    "i)Random forest classifier"
   ]
  },
  {
   "cell_type": "code",
   "execution_count": null,
   "id": "78d3a0fb-574c-487f-a191-e52d2ddd524b",
   "metadata": {},
   "outputs": [],
   "source": [
    "from sklearn.model_selection import train_test_split\n",
    "from sklearn.linear_model import LogisticRegression"
   ]
  },
  {
   "cell_type": "code",
   "execution_count": null,
   "id": "e00dd822-c9d4-4e1f-8f6d-72787ec17333",
   "metadata": {},
   "outputs": [],
   "source": [
    "y=df[[\"Survived\"]]\n",
    "X=df.drop(\"Survived\",axis=1)"
   ]
  },
  {
   "cell_type": "code",
   "execution_count": null,
   "id": "d1eefa74-19f1-4754-bc75-780b03ed0ec5",
   "metadata": {},
   "outputs": [],
   "source": [
    "X_train,X_test,y_train,y_test=train_test_split(X,y,test_size=0.30)"
   ]
  },
  {
   "cell_type": "code",
   "execution_count": null,
   "id": "4d8278ba-3f38-477d-b529-d2808873f930",
   "metadata": {},
   "outputs": [],
   "source": [
    "model_lr=LogisticRegression()"
   ]
  },
  {
   "cell_type": "code",
   "execution_count": null,
   "id": "1d907bd3-fd94-40b2-ac59-e48dfd7c210c",
   "metadata": {},
   "outputs": [],
   "source": [
    "import warnings\n",
    "warnings.filterwarnings(\"ignore\")"
   ]
  },
  {
   "cell_type": "code",
   "execution_count": null,
   "id": "4ccbff83-4373-419b-b4e8-e7d557ea1cf2",
   "metadata": {},
   "outputs": [],
   "source": [
    "model_lr.fit(X_train,y_train)"
   ]
  },
  {
   "cell_type": "code",
   "execution_count": null,
   "id": "1aa445d2-9fa0-42fd-bcb4-b3f59f872fa6",
   "metadata": {},
   "outputs": [],
   "source": [
    "model_lr.score(X_train,y_train)"
   ]
  },
  {
   "cell_type": "code",
   "execution_count": null,
   "id": "0bb7cf31-02bf-47f6-bcf4-8c20f6c91137",
   "metadata": {},
   "outputs": [],
   "source": [
    "model_lr.score(X_test,y_test)"
   ]
  },
  {
   "cell_type": "code",
   "execution_count": null,
   "id": "57660fba-67ab-43b3-8b7f-8d7ccb374b6a",
   "metadata": {},
   "outputs": [],
   "source": [
    "from sklearn.tree import DecisionTreeClassifier"
   ]
  },
  {
   "cell_type": "code",
   "execution_count": null,
   "id": "b557a95d-864f-44c6-b66c-918388f1d1de",
   "metadata": {},
   "outputs": [],
   "source": [
    "model_dtc=DecisionTreeClassifier()"
   ]
  },
  {
   "cell_type": "code",
   "execution_count": null,
   "id": "a313e23f-21af-4a08-8243-3a06c26fb4d7",
   "metadata": {},
   "outputs": [],
   "source": [
    "model_dtc.fit(X_train,y_train)"
   ]
  },
  {
   "cell_type": "code",
   "execution_count": null,
   "id": "ec0447c8-e5b1-42cf-9c44-1490c5c7588c",
   "metadata": {},
   "outputs": [],
   "source": [
    "model_dtc.score(X_train,y_train)"
   ]
  },
  {
   "cell_type": "code",
   "execution_count": null,
   "id": "016a708c-a279-4e47-9b42-0c1fd79a46a4",
   "metadata": {},
   "outputs": [],
   "source": [
    "model_dtc.score(X_test,y_test)"
   ]
  },
  {
   "cell_type": "code",
   "execution_count": 2,
   "id": "2415c487-ba74-41ef-bde8-2840749367ca",
   "metadata": {},
   "outputs": [],
   "source": [
    "from sklearn.ensemble import RandomForestClassifier\n",
    "from sklearn.neighbors import KNeighborsClassifier\n",
    "from sklearn.svm import SVC\n",
    "from sklearn.ensemble import BaggingClassifier\n",
    "from sklearn.ensemble import AdaBoostClassifier\n",
    "from sklearn.ensemble import GradientBoostingClassifier\n"
   ]
  },
  {
   "cell_type": "code",
   "execution_count": null,
   "id": "fa9e6231-770d-4ee8-bdb6-fde5ba440085",
   "metadata": {},
   "outputs": [],
   "source": []
  }
 ],
 "metadata": {
  "kernelspec": {
   "display_name": "Python 3 (ipykernel)",
   "language": "python",
   "name": "python3"
  },
  "language_info": {
   "codemirror_mode": {
    "name": "ipython",
    "version": 3
   },
   "file_extension": ".py",
   "mimetype": "text/x-python",
   "name": "python",
   "nbconvert_exporter": "python",
   "pygments_lexer": "ipython3",
   "version": "3.11.7"
  }
 },
 "nbformat": 4,
 "nbformat_minor": 5
}
